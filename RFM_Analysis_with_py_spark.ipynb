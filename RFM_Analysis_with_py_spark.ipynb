{
  "cells": [
    {
      "cell_type": "markdown",
      "metadata": {
        "id": "XB6ADqp8emzp"
      },
      "source": [
        "## RFM Analysis\n",
        "\n"
      ]
    },
    {
      "cell_type": "code",
      "source": [
        "from google.colab import drive\n",
        "drive.mount('/content/drive')"
      ],
      "metadata": {
        "colab": {
          "base_uri": "https://localhost:8080/"
        },
        "id": "oOVzqjt-Y2Np",
        "outputId": "8931819c-4766-424e-e5f5-61ad9664d054"
      },
      "execution_count": null,
      "outputs": [
        {
          "output_type": "stream",
          "name": "stdout",
          "text": [
            "Mounted at /content/drive\n"
          ]
        }
      ]
    },
    {
      "cell_type": "code",
      "source": [
        "!python --version"
      ],
      "metadata": {
        "id": "BZLHoHbgyROT",
        "colab": {
          "base_uri": "https://localhost:8080/"
        },
        "outputId": "9b1beda9-a573-42fa-9dee-1b7f863e9dd3"
      },
      "execution_count": null,
      "outputs": [
        {
          "output_type": "stream",
          "name": "stdout",
          "text": [
            "Python 3.7.13\n"
          ]
        }
      ]
    },
    {
      "cell_type": "code",
      "source": [
        "!apt-get update\n",
        "!apt-get install openjdk-8-jdk-headless -qq > /dev/null\n",
        "!wget -q http://archive.apache.org/dist/spark/spark-2.3.1/spark-2.3.1-bin-hadoop2.7.tgz\n",
        "!tar xf spark-2.3.1-bin-hadoop2.7.tgz\n",
        "!pip install -q findspark\n",
        "\n",
        "import os\n",
        "os.environ[\"JAVA_HOME\"] = \"/usr/lib/jvm/java-8-openjdk-amd64\"\n",
        "os.environ[\"SPARK_HOME\"] = \"/content/spark-2.3.1-bin-hadoop2.7\"\n",
        "\n",
        "!ls\n",
        "\n",
        "import findspark\n",
        "findspark.init()\n",
        "\n",
        "import pyspark\n",
        "from pyspark.sql import SparkSession"
      ],
      "metadata": {
        "colab": {
          "base_uri": "https://localhost:8080/"
        },
        "id": "mZU66lqoiv7B",
        "outputId": "33a2e33d-d2e1-4c02-dceb-71438c184ff0"
      },
      "execution_count": null,
      "outputs": [
        {
          "output_type": "stream",
          "name": "stdout",
          "text": [
            "\r0% [Working]\r            \rGet:1 https://cloud.r-project.org/bin/linux/ubuntu bionic-cran40/ InRelease [3,626 B]\n",
            "\r0% [Waiting for headers] [Connecting to security.ubuntu.com (185.125.190.36)] [\r0% [Waiting for headers] [Connecting to security.ubuntu.com (185.125.190.36)] [\r0% [1 InRelease gpgv 3,626 B] [Waiting for headers] [Waiting for headers] [Conn\r                                                                               \rHit:2 http://archive.ubuntu.com/ubuntu bionic InRelease\n",
            "Get:3 http://archive.ubuntu.com/ubuntu bionic-updates InRelease [88.7 kB]\n",
            "Ign:4 https://developer.download.nvidia.com/compute/cuda/repos/ubuntu1804/x86_64  InRelease\n",
            "Get:5 http://security.ubuntu.com/ubuntu bionic-security InRelease [88.7 kB]\n",
            "Get:6 http://ppa.launchpad.net/c2d4u.team/c2d4u4.0+/ubuntu bionic InRelease [15.9 kB]\n",
            "Ign:7 https://developer.download.nvidia.com/compute/machine-learning/repos/ubuntu1804/x86_64  InRelease\n",
            "Get:8 https://developer.download.nvidia.com/compute/cuda/repos/ubuntu1804/x86_64  Release [696 B]\n",
            "Get:9 http://archive.ubuntu.com/ubuntu bionic-backports InRelease [74.6 kB]\n",
            "Hit:10 https://developer.download.nvidia.com/compute/machine-learning/repos/ubuntu1804/x86_64  Release\n",
            "Get:11 https://developer.download.nvidia.com/compute/cuda/repos/ubuntu1804/x86_64  Release.gpg [836 B]\n",
            "Hit:12 http://ppa.launchpad.net/cran/libgit2/ubuntu bionic InRelease\n",
            "Get:13 https://cloud.r-project.org/bin/linux/ubuntu bionic-cran40/ Packages [80.8 kB]\n",
            "Get:14 http://ppa.launchpad.net/deadsnakes/ppa/ubuntu bionic InRelease [15.9 kB]\n",
            "Get:15 http://ppa.launchpad.net/graphics-drivers/ppa/ubuntu bionic InRelease [21.3 kB]\n",
            "Get:16 http://archive.ubuntu.com/ubuntu bionic-updates/restricted amd64 Packages [918 kB]\n",
            "Get:17 http://archive.ubuntu.com/ubuntu bionic-updates/universe amd64 Packages [2,264 kB]\n",
            "Get:18 http://archive.ubuntu.com/ubuntu bionic-updates/multiverse amd64 Packages [29.8 kB]\n",
            "Get:19 http://archive.ubuntu.com/ubuntu bionic-updates/main amd64 Packages [3,132 kB]\n",
            "Get:21 https://developer.download.nvidia.com/compute/cuda/repos/ubuntu1804/x86_64  Packages [950 kB]\n",
            "Get:22 http://archive.ubuntu.com/ubuntu bionic-backports/universe amd64 Packages [12.9 kB]\n",
            "Get:23 http://archive.ubuntu.com/ubuntu bionic-backports/main amd64 Packages [12.2 kB]\n",
            "Get:24 http://ppa.launchpad.net/c2d4u.team/c2d4u4.0+/ubuntu bionic/main Sources [1,830 kB]\n",
            "Get:25 http://security.ubuntu.com/ubuntu bionic-security/universe amd64 Packages [1,486 kB]\n",
            "Get:26 http://security.ubuntu.com/ubuntu bionic-security/main amd64 Packages [2,693 kB]\n",
            "Get:27 http://security.ubuntu.com/ubuntu bionic-security/restricted amd64 Packages [884 kB]\n",
            "Get:28 http://ppa.launchpad.net/c2d4u.team/c2d4u4.0+/ubuntu bionic/main amd64 Packages [937 kB]\n",
            "Get:29 http://ppa.launchpad.net/deadsnakes/ppa/ubuntu bionic/main amd64 Packages [45.3 kB]\n",
            "Get:30 http://ppa.launchpad.net/graphics-drivers/ppa/ubuntu bionic/main amd64 Packages [44.3 kB]\n",
            "Fetched 15.6 MB in 5s (2,904 kB/s)\n",
            "Reading package lists... Done\n",
            "sample_data  spark-2.3.1-bin-hadoop2.7\tspark-2.3.1-bin-hadoop2.7.tgz\n"
          ]
        }
      ]
    },
    {
      "cell_type": "code",
      "source": [
        "from google.colab import drive, files\n",
        "drive.mount('/content/drive')\n"
      ],
      "metadata": {
        "colab": {
          "base_uri": "https://localhost:8080/"
        },
        "id": "6p77In2hqHDA",
        "outputId": "31285a2a-3068-4fbd-e2af-70465d51e56e"
      },
      "execution_count": null,
      "outputs": [
        {
          "output_type": "stream",
          "name": "stdout",
          "text": [
            "Mounted at /content/drive\n"
          ]
        }
      ]
    },
    {
      "cell_type": "code",
      "source": [
        "import os\n",
        "os.environ['KAGGLE_CONFIG_DIR'] = \"/content/drive/MyDrive/Kaggle\"\n",
        "# /content/gdrive/My Drive/Kaggle is the path where kaggle.json is present in the Google Drive"
      ],
      "metadata": {
        "id": "1fyoxG55sDvE"
      },
      "execution_count": null,
      "outputs": []
    },
    {
      "cell_type": "code",
      "source": [
        "#changing the working directory\n",
        "%cd /content/drive/MyDrive/Kaggle\n",
        "#Check the present working directory using pwd command"
      ],
      "metadata": {
        "colab": {
          "base_uri": "https://localhost:8080/"
        },
        "id": "VO6Tvt1assjG",
        "outputId": "ca4017c6-53ad-48d1-b24b-1a6e6d8b8d94"
      },
      "execution_count": null,
      "outputs": [
        {
          "output_type": "stream",
          "name": "stdout",
          "text": [
            "/content/drive/MyDrive/Kaggle\n"
          ]
        }
      ]
    },
    {
      "cell_type": "code",
      "source": [
        "! kaggle datasets download -d roshansharma/online-retail"
      ],
      "metadata": {
        "colab": {
          "base_uri": "https://localhost:8080/"
        },
        "id": "FPcF4CG_qKlY",
        "outputId": "1fdd0692-fe82-4b9a-c48b-f97edd95a55c"
      },
      "execution_count": null,
      "outputs": [
        {
          "output_type": "stream",
          "name": "stdout",
          "text": [
            "404 - Not Found\n"
          ]
        }
      ]
    },
    {
      "cell_type": "code",
      "source": [
        "#unzipping the zip files and deleting the zip files\n",
        "!unzip \\*.zip  && rm *.zip"
      ],
      "metadata": {
        "colab": {
          "base_uri": "https://localhost:8080/"
        },
        "id": "PqrbjhH4qMpu",
        "outputId": "ab63b355-7a79-4465-e7f6-142f66def694"
      },
      "execution_count": null,
      "outputs": [
        {
          "output_type": "stream",
          "name": "stdout",
          "text": [
            "unzip:  cannot find or open *.zip, *.zip.zip or *.zip.ZIP.\n",
            "\n",
            "No zipfiles found.\n"
          ]
        }
      ]
    },
    {
      "cell_type": "code",
      "source": [
        "spark = SparkSession \\\n",
        "    .builder \\\n",
        "    .appName(\"Python Spark RFM example\") \\\n",
        "    .config(\"spark.some.config.option\", \"some-value\") \\\n",
        "    .getOrCreate()"
      ],
      "metadata": {
        "id": "ScCS2boRqQQu"
      },
      "execution_count": null,
      "outputs": []
    },
    {
      "cell_type": "code",
      "execution_count": null,
      "metadata": {
        "colab": {
          "base_uri": "https://localhost:8080/"
        },
        "id": "FP3pAOZvemzt",
        "outputId": "03a0df04-350d-47ce-b776-7b60935d8f8f"
      },
      "outputs": [
        {
          "output_type": "stream",
          "name": "stdout",
          "text": [
            "+---------+---------+--------------------+--------+--------------+---------+----------+--------------+\n",
            "|InvoiceNo|StockCode|         Description|Quantity|   InvoiceDate|UnitPrice|CustomerID|       Country|\n",
            "+---------+---------+--------------------+--------+--------------+---------+----------+--------------+\n",
            "|   536365|   85123A|WHITE HANGING HEA...|       6|1/12/2010 8:26|     2.55|     17850|United Kingdom|\n",
            "|   536365|    71053| WHITE METAL LANTERN|       6|1/12/2010 8:26|     3.39|     17850|United Kingdom|\n",
            "|   536365|   84406B|CREAM CUPID HEART...|       8|1/12/2010 8:26|     2.75|     17850|United Kingdom|\n",
            "|   536365|   84029G|KNITTED UNION FLA...|       6|1/12/2010 8:26|     3.39|     17850|United Kingdom|\n",
            "|   536365|   84029E|RED WOOLLY HOTTIE...|       6|1/12/2010 8:26|     3.39|     17850|United Kingdom|\n",
            "+---------+---------+--------------------+--------+--------------+---------+----------+--------------+\n",
            "only showing top 5 rows\n",
            "\n"
          ]
        }
      ],
      "source": [
        "from pyspark.sql.types import StructType, StructField, IntegerType, StringType, FloatType\n",
        "import pandas as pd\n",
        "import numpy as np\n",
        "\n",
        "#We can make the read operation(when DAG turns) much faster by defining the schema\n",
        "schema = StructType([\n",
        "  StructField(\"InvoiceNo\",IntegerType(),True),\n",
        "  StructField(\"StockCode\",StringType(),True),\n",
        "  StructField(\"Description\",StringType(),True),\n",
        "  StructField(\"Quantity\",IntegerType(),True),\n",
        "  StructField(\"InvoiceDate\",StringType(),True),\n",
        "  StructField(\"UnitPrice\",FloatType(),True),\n",
        "  StructField(\"CustomerID\",IntegerType(),True),\n",
        "  StructField(\"Country\",StringType(),True)\n",
        "])\n",
        "df = spark.read.option(\"header\",\"true\") \\\n",
        "                         .format(\"csv\") \\\n",
        "                         .schema(schema) \\\n",
        "                         .load(\"/content/drive/MyDrive/Kaggle/online retail.csv\")\n",
        "\n",
        "df.show(5)"
      ]
    },
    {
      "cell_type": "code",
      "execution_count": null,
      "metadata": {
        "colab": {
          "base_uri": "https://localhost:8080/"
        },
        "id": "VzH5K0vxemzv",
        "outputId": "6126cd24-ef79-4e42-e88d-87b7a6fbc590"
      },
      "outputs": [
        {
          "output_type": "stream",
          "name": "stdout",
          "text": [
            "root\n",
            " |-- InvoiceNo: integer (nullable = true)\n",
            " |-- StockCode: string (nullable = true)\n",
            " |-- Description: string (nullable = true)\n",
            " |-- Quantity: integer (nullable = true)\n",
            " |-- InvoiceDate: string (nullable = true)\n",
            " |-- UnitPrice: float (nullable = true)\n",
            " |-- CustomerID: integer (nullable = true)\n",
            " |-- Country: string (nullable = true)\n",
            "\n"
          ]
        }
      ],
      "source": [
        "#The schema structures of the dataframe\n",
        "df.printSchema()"
      ]
    },
    {
      "cell_type": "code",
      "execution_count": null,
      "metadata": {
        "colab": {
          "base_uri": "https://localhost:8080/"
        },
        "id": "rZE7rmqPemzw",
        "outputId": "54b140e8-6e58-4eb3-cd53-f8a7a7ccdf15"
      },
      "outputs": [
        {
          "output_type": "execute_result",
          "data": {
            "text/plain": [
              "['InvoiceNo',\n",
              " 'StockCode',\n",
              " 'Description',\n",
              " 'Quantity',\n",
              " 'InvoiceDate',\n",
              " 'UnitPrice',\n",
              " 'CustomerID',\n",
              " 'Country']"
            ]
          },
          "metadata": {},
          "execution_count": 11
        }
      ],
      "source": [
        "#Columns in the data\n",
        "df.columns"
      ]
    },
    {
      "cell_type": "code",
      "execution_count": null,
      "metadata": {
        "colab": {
          "base_uri": "https://localhost:8080/"
        },
        "id": "iKRXFDmhemzw",
        "outputId": "f4956086-b98f-480d-e85e-4944960b51eb"
      },
      "outputs": [
        {
          "output_type": "stream",
          "name": "stdout",
          "text": [
            "+---------+---------+-----------+--------+-----------+---------+----------+-------+\n",
            "|InvoiceNo|StockCode|Description|Quantity|InvoiceDate|UnitPrice|CustomerID|Country|\n",
            "+---------+---------+-----------+--------+-----------+---------+----------+-------+\n",
            "|   532616|   532616|     531162|  532616|     532616|   532616|    397924| 532616|\n",
            "+---------+---------+-----------+--------+-----------+---------+----------+-------+\n",
            "\n"
          ]
        }
      ],
      "source": [
        "#Data Cleaning and Data Manipulation\n",
        "from pyspark.sql.functions import count\n",
        "\n",
        "#Returning the counts from all the columns to check that how many column contain how much null values(NaN values)\n",
        "def my_count(df_in):\n",
        "    df_in.agg( *[ count(c).alias(c) for c in df_in.columns ] ).show()\n",
        "my_count(df)"
      ]
    },
    {
      "cell_type": "markdown",
      "metadata": {
        "id": "lMTN_kNWemzx"
      },
      "source": [
        "#Handling Null Values\n",
        "\n",
        "\n"
      ]
    },
    {
      "cell_type": "code",
      "execution_count": null,
      "metadata": {
        "colab": {
          "base_uri": "https://localhost:8080/"
        },
        "id": "esHfz0puemzx",
        "outputId": "46872d3a-02b8-4e52-b3e6-f44c73ec7f3e"
      },
      "outputs": [
        {
          "output_type": "stream",
          "name": "stdout",
          "text": [
            "+---------+---------+-----------+--------+-----------+---------+----------+-------+\n",
            "|InvoiceNo|StockCode|Description|Quantity|InvoiceDate|UnitPrice|CustomerID|Country|\n",
            "+---------+---------+-----------+--------+-----------+---------+----------+-------+\n",
            "|   397924|   397924|     397924|  397924|     397924|   397924|    397924| 397924|\n",
            "+---------+---------+-----------+--------+-----------+---------+----------+-------+\n",
            "\n"
          ]
        }
      ],
      "source": [
        "#First going with the basic method as our dataset is sufficiently large and if the model fails to generalize good on the dataset we will use other missing vaue handling techniques\n",
        "df = df.dropna(how=\"any\")\n",
        "my_count(df)"
      ]
    },
    {
      "cell_type": "code",
      "execution_count": null,
      "metadata": {
        "id": "yg_XRZoIemzx"
      },
      "outputs": [],
      "source": [
        "#Converting InvoiceDate coulmn to UTC time stamp format(New column NewInvoiceDate Created)\n",
        "from pyspark.sql.functions import to_utc_timestamp, unix_timestamp, lit, datediff, col\n",
        "timeFormat = \"MM/dd/yy HH:mm\"\n",
        "df = df.withColumn(\"NewInvoiceDate\",to_utc_timestamp(unix_timestamp(col(\"InvoiceDate\"),timeFormat).cast(\"timestamp\"),\"UTC\"))"
      ]
    },
    {
      "cell_type": "code",
      "source": [
        "df.show(5)"
      ],
      "metadata": {
        "colab": {
          "base_uri": "https://localhost:8080/"
        },
        "id": "9iLeOQd2rztn",
        "outputId": "32c6dc2b-4449-4144-fbcc-f257a0fd41d7"
      },
      "execution_count": null,
      "outputs": [
        {
          "output_type": "stream",
          "name": "stdout",
          "text": [
            "+---------+---------+--------------------+--------+--------------+---------+----------+--------------+-------------------+\n",
            "|InvoiceNo|StockCode|         Description|Quantity|   InvoiceDate|UnitPrice|CustomerID|       Country|     NewInvoiceDate|\n",
            "+---------+---------+--------------------+--------+--------------+---------+----------+--------------+-------------------+\n",
            "|   536365|   85123A|WHITE HANGING HEA...|       6|1/12/2010 8:26|     2.55|     17850|United Kingdom|2010-01-12 08:26:00|\n",
            "|   536365|    71053| WHITE METAL LANTERN|       6|1/12/2010 8:26|     3.39|     17850|United Kingdom|2010-01-12 08:26:00|\n",
            "|   536365|   84406B|CREAM CUPID HEART...|       8|1/12/2010 8:26|     2.75|     17850|United Kingdom|2010-01-12 08:26:00|\n",
            "|   536365|   84029G|KNITTED UNION FLA...|       6|1/12/2010 8:26|     3.39|     17850|United Kingdom|2010-01-12 08:26:00|\n",
            "|   536365|   84029E|RED WOOLLY HOTTIE...|       6|1/12/2010 8:26|     3.39|     17850|United Kingdom|2010-01-12 08:26:00|\n",
            "+---------+---------+--------------------+--------+--------------+---------+----------+--------------+-------------------+\n",
            "only showing top 5 rows\n",
            "\n"
          ]
        }
      ]
    },
    {
      "cell_type": "code",
      "execution_count": null,
      "metadata": {
        "colab": {
          "base_uri": "https://localhost:8080/"
        },
        "id": "Z5WF1NMuemzy",
        "outputId": "38043aec-3d0c-4559-8d6d-7aff6ada7b1c"
      },
      "outputs": [
        {
          "output_type": "stream",
          "name": "stdout",
          "text": [
            "+---------+---------+--------------------+--------+--------------+---------+----------+--------------+-------------------+----------+\n",
            "|InvoiceNo|StockCode|         Description|Quantity|   InvoiceDate|UnitPrice|CustomerID|       Country|     NewInvoiceDate|TotalPrice|\n",
            "+---------+---------+--------------------+--------+--------------+---------+----------+--------------+-------------------+----------+\n",
            "|   536365|   85123A|WHITE HANGING HEA...|       6|1/12/2010 8:26|     2.55|     17850|United Kingdom|2010-01-12 08:26:00|      15.3|\n",
            "|   536365|    71053| WHITE METAL LANTERN|       6|1/12/2010 8:26|     3.39|     17850|United Kingdom|2010-01-12 08:26:00|     20.34|\n",
            "|   536365|   84406B|CREAM CUPID HEART...|       8|1/12/2010 8:26|     2.75|     17850|United Kingdom|2010-01-12 08:26:00|      22.0|\n",
            "|   536365|   84029G|KNITTED UNION FLA...|       6|1/12/2010 8:26|     3.39|     17850|United Kingdom|2010-01-12 08:26:00|     20.34|\n",
            "|   536365|   84029E|RED WOOLLY HOTTIE...|       6|1/12/2010 8:26|     3.39|     17850|United Kingdom|2010-01-12 08:26:00|     20.34|\n",
            "+---------+---------+--------------------+--------+--------------+---------+----------+--------------+-------------------+----------+\n",
            "only showing top 5 rows\n",
            "\n"
          ]
        }
      ],
      "source": [
        "#Calculating the total price\n",
        "#For Calculating the monetary value we will be requiring the total amount that the customer has spent(so we need to get the price spent  by customer and which is equal to Quantity*unit_price_of_quantity)\n",
        "from pyspark.sql.functions import round\n",
        "df = df.withColumn(\"TotalPrice\",round(df.Quantity*df.UnitPrice,2))\n",
        "df.show(5)"
      ]
    },
    {
      "cell_type": "code",
      "execution_count": null,
      "metadata": {
        "colab": {
          "base_uri": "https://localhost:8080/"
        },
        "id": "tdcuJ2Amemzy",
        "outputId": "fda5474d-a710-405a-f5b8-aea967a14543"
      },
      "outputs": [
        {
          "output_type": "stream",
          "name": "stdout",
          "text": [
            "+---------+---------+--------------------+--------+--------------+---------+----------+--------------+-------------------+----------+--------+\n",
            "|InvoiceNo|StockCode|         Description|Quantity|   InvoiceDate|UnitPrice|CustomerID|       Country|     NewInvoiceDate|TotalPrice|Duration|\n",
            "+---------+---------+--------------------+--------+--------------+---------+----------+--------------+-------------------+----------+--------+\n",
            "|   536365|   85123A|WHITE HANGING HEA...|       6|1/12/2010 8:26|     2.55|     17850|United Kingdom|2010-01-12 08:26:00|      15.3|     697|\n",
            "|   536365|    71053| WHITE METAL LANTERN|       6|1/12/2010 8:26|     3.39|     17850|United Kingdom|2010-01-12 08:26:00|     20.34|     697|\n",
            "|   536365|   84406B|CREAM CUPID HEART...|       8|1/12/2010 8:26|     2.75|     17850|United Kingdom|2010-01-12 08:26:00|      22.0|     697|\n",
            "|   536365|   84029G|KNITTED UNION FLA...|       6|1/12/2010 8:26|     3.39|     17850|United Kingdom|2010-01-12 08:26:00|     20.34|     697|\n",
            "|   536365|   84029E|RED WOOLLY HOTTIE...|       6|1/12/2010 8:26|     3.39|     17850|United Kingdom|2010-01-12 08:26:00|     20.34|     697|\n",
            "+---------+---------+--------------------+--------+--------------+---------+----------+--------------+-------------------+----------+--------+\n",
            "only showing top 5 rows\n",
            "\n"
          ]
        }
      ],
      "source": [
        "#Calculating the time difference\n",
        "from pyspark.sql.functions import mean,min,max,sum,datediff,to_date\n",
        "date_max = df.select(max(\"NewInvoiceDate\")).toPandas()\n",
        "current = to_utc_timestamp(unix_timestamp(lit(str(date_max.iloc[0][0])),\"yy-MM-dd HH:mm\").cast(\"timestamp\"),\"UTC\")\n",
        "\n",
        "#Calculating the Duration(Duration is another important attribute for RFM analysis which tell how often did customer purchase)(From how much time he hasn't purchased)\n",
        "df = df.withColumn(\"Duration\",datediff(lit(current),\"NewInvoiceDate\"))\n",
        "df.show(5)"
      ]
    },
    {
      "cell_type": "markdown",
      "metadata": {
        "id": "kPoboUDbemzz"
      },
      "source": [
        "###In this step we have build our RFM feature matrix and hence completed our first step of RFM analysis"
      ]
    },
    {
      "cell_type": "code",
      "execution_count": null,
      "metadata": {
        "colab": {
          "base_uri": "https://localhost:8080/"
        },
        "id": "PXpW_UTYemzz",
        "outputId": "0b7ced9d-d2bc-4da2-c246-750ef9e8df53"
      },
      "outputs": [
        {
          "output_type": "stream",
          "name": "stdout",
          "text": [
            "+----------+-------+---------+--------+\n",
            "|CustomerID|Recency|Frequency|Monetary|\n",
            "+----------+-------+---------+--------+\n",
            "|     15727|      9|        7| 5178.96|\n",
            "|     16574|   null|        1|  451.44|\n",
            "|     17420|    697|        3|  598.83|\n",
            "|     13285|    337|        4| 2709.12|\n",
            "|     15619|   null|        1|   336.4|\n",
            "+----------+-------+---------+--------+\n",
            "only showing top 5 rows\n",
            "\n"
          ]
        }
      ],
      "source": [
        "#Building Recency,Frequency and Monetary attribute corresponding to the customers ID(Customers)\n",
        "recency = df.groupBy(\"CustomerID\").agg(min(\"Duration\").alias(\"Recency\"))\n",
        "frequency = df.groupBy(\"CustomerID\",\"InvoiceNo\").count().groupBy(\"CustomerID\").agg(count(\"*\").alias(\"Frequency\"))\n",
        "monetary = df.groupBy(\"CustomerID\").agg(round(sum(\"TotalPrice\"), 2).alias(\"Monetary\"))\n",
        "rfm = recency.join(frequency,\"CustomerID\",how =\"inner\").join(monetary,\"CustomerID\",how =\"inner\")\n",
        "\n",
        "rfm.show(5)"
      ]
    },
    {
      "cell_type": "code",
      "source": [
        "rfm = rfm.dropna()"
      ],
      "metadata": {
        "id": "BUzwW-sREXft"
      },
      "execution_count": null,
      "outputs": []
    },
    {
      "cell_type": "code",
      "source": [
        "rfm.show(5)"
      ],
      "metadata": {
        "colab": {
          "base_uri": "https://localhost:8080/"
        },
        "id": "zCzzUSFsEcic",
        "outputId": "84faeec6-fbaa-4cb8-a033-4cc430e74b64"
      },
      "execution_count": null,
      "outputs": [
        {
          "output_type": "stream",
          "name": "stdout",
          "text": [
            "+----------+-------+---------+--------+\n",
            "|CustomerID|Recency|Frequency|Monetary|\n",
            "+----------+-------+---------+--------+\n",
            "|     15727|      9|        7| 5178.96|\n",
            "|     17420|    697|        3|  598.83|\n",
            "|     13285|    337|        4| 2709.12|\n",
            "|     17389|      9|       34|31833.68|\n",
            "|     16503|     96|        4| 1431.93|\n",
            "+----------+-------+---------+--------+\n",
            "only showing top 5 rows\n",
            "\n"
          ]
        }
      ]
    },
    {
      "cell_type": "markdown",
      "metadata": {
        "id": "J68TR-KSemzz"
      },
      "source": [
        "Now our next step will be determination of cutting points for each feature"
      ]
    },
    {
      "cell_type": "markdown",
      "metadata": {
        "id": "YSPJX-LDemzz"
      },
      "source": [
        "RFM Segamentation\n",
        "Determine the cutting points for each attribute.Cutting points can be mainly inferenced from business point of view."
      ]
    },
    {
      "cell_type": "code",
      "execution_count": null,
      "metadata": {
        "id": "44eGpnEYemz0",
        "colab": {
          "base_uri": "https://localhost:8080/"
        },
        "outputId": "bcb8bebe-16d6-4da1-f68c-3d3293ae2f4b"
      },
      "outputs": [
        {
          "output_type": "stream",
          "name": "stdout",
          "text": [
            "+-------+------------------+------------------+------------------+\n",
            "|summary|           Recency|         Frequency|          Monetary|\n",
            "+-------+------------------+------------------+------------------+\n",
            "|  count|              2997|              2997|              2997|\n",
            "|   mean|154.39005672339005|5.4724724724724725| 2681.700777444111|\n",
            "| stddev|140.15565805873825| 8.991484232943673|10653.388721722633|\n",
            "|    min|                 0|                 1|               6.2|\n",
            "|    max|               697|               210|         280206.02|\n",
            "+-------+------------------+------------------+------------------+\n",
            "\n"
          ]
        }
      ],
      "source": [
        "#Use obove function describe_pd or either use this below piece of code for short statistical inference\n",
        "cols = [\"Recency\",\"Frequency\",\"Monetary\"]\n",
        "rfm.select(cols).describe().show()"
      ]
    },
    {
      "cell_type": "code",
      "execution_count": null,
      "metadata": {
        "id": "X_H3GRIqemz0"
      },
      "outputs": [],
      "source": [
        "#Using the quantile for defining the R,F,M values between 1 and 4\n",
        "#According to the magnitudes we have assigned values between 1 to 4 to the attributes\n",
        "\n",
        "def RScore(x):\n",
        "  #Smaller value of x(Recency) tells us that the particular customer has done some activity(like buying something or using some product) recently and contrary larger the value of x will give some inference that customer wasn't involved in activity from a long time\n",
        "  if x== None:\n",
        "    return None\n",
        "  elif x <= 16:\n",
        "    return 1\n",
        "  elif x<= 50:\n",
        "    return 2\n",
        "  elif x<= 143:\n",
        "    return 3\n",
        "  else:\n",
        "    return 4"
      ]
    },
    {
      "cell_type": "code",
      "source": [
        "def FScore(x):\n",
        "  #Smaller the value of x(Frequency) tell that the customer is not involved in activities frequently and for customer with high value of x denotes that customer is involved in Frequent activities\n",
        "  if x== None:\n",
        "    return None\n",
        "  elif x <= 1:\n",
        "    return 4\n",
        "  elif x <= 3:\n",
        "    return 3\n",
        "  elif x <= 5:\n",
        "    return 2\n",
        "  else:\n",
        "    return 1"
      ],
      "metadata": {
        "id": "YGRcCi14uZPH"
      },
      "execution_count": null,
      "outputs": []
    },
    {
      "cell_type": "code",
      "source": [
        "def MScore(x):\n",
        "  #Smaller the value of x(Monetary value) tells us that customer activities cost is not much(has not spent much money on buying some product etc) and contrary higher value of x denotes that customer has spent a lot of money on activities\n",
        "  if x== None:\n",
        "    return None\n",
        "  elif x <= 293:\n",
        "    return 4\n",
        "  elif x <= 648:\n",
        "    return 3\n",
        "  elif x <= 1611:\n",
        "    return 2\n",
        "  else:\n",
        "    return 1"
      ],
      "metadata": {
        "id": "hpp7_Wz3ubij"
      },
      "execution_count": null,
      "outputs": []
    },
    {
      "cell_type": "code",
      "source": [
        "#A customer can have any of the permutation of these values corresponding to their activities\n",
        "\n",
        "#For each and every value of R,F,M we will pass them through the lambda function in corresponding R_udf,F_udf,M_udf\n",
        "from pyspark.sql.functions import udf\n",
        "from pyspark.sql.types import StringType, DoubleType\n",
        "\n",
        "R_udf = udf(lambda x: RScore(x), StringType())\n",
        "F_udf = udf(lambda x: FScore(x), StringType())\n",
        "M_udf = udf(lambda x: MScore(x), StringType())"
      ],
      "metadata": {
        "id": "VnZ-2hBcued_"
      },
      "execution_count": null,
      "outputs": []
    },
    {
      "cell_type": "code",
      "source": [
        "#RFM segamentation\n",
        "from pyspark.sql.functions import concat\n",
        "\n",
        "rfm_seg=rfm.withColumn(\"r_seg\", R_udf(\"Recency\"))\n",
        "rfm_seg=rfm_seg.withColumn(\"f_seg\", F_udf(\"Frequency\"))\n",
        "rfm_seg=rfm_seg.withColumn(\"m_seg\", M_udf(\"Monetary\"))\n",
        "\n",
        "rfm_seg.show(5)"
      ],
      "metadata": {
        "colab": {
          "base_uri": "https://localhost:8080/"
        },
        "id": "QIOr_0LDugam",
        "outputId": "d7bd7af1-a9c6-401d-b1da-227f35ba0932"
      },
      "execution_count": null,
      "outputs": [
        {
          "output_type": "stream",
          "name": "stdout",
          "text": [
            "+----------+-------+---------+--------+-----+-----+-----+\n",
            "|CustomerID|Recency|Frequency|Monetary|r_seg|f_seg|m_seg|\n",
            "+----------+-------+---------+--------+-----+-----+-----+\n",
            "|     15727|      9|        7| 5178.96|    1|    1|    1|\n",
            "|     17420|    697|        3|  598.83|    4|    3|    3|\n",
            "|     13285|    337|        4| 2709.12|    4|    2|    1|\n",
            "|     17389|      9|       34|31833.68|    1|    1|    1|\n",
            "|     16503|     96|        4| 1431.93|    3|    2|    2|\n",
            "+----------+-------+---------+--------+-----+-----+-----+\n",
            "only showing top 5 rows\n",
            "\n"
          ]
        }
      ]
    },
    {
      "cell_type": "markdown",
      "metadata": {
        "id": "DbRdz7X5emz0"
      },
      "source": [
        "##Next will be determination of RFM score and corresponding business value"
      ]
    },
    {
      "cell_type": "code",
      "execution_count": null,
      "metadata": {
        "id": "DReRbNIcemz0",
        "colab": {
          "base_uri": "https://localhost:8080/"
        },
        "outputId": "2e02cc8e-4ab4-4e1a-9225-21093de402e1"
      },
      "outputs": [
        {
          "output_type": "stream",
          "name": "stdout",
          "text": [
            "+----------+-------+---------+--------+-----+-----+-----+--------+\n",
            "|CustomerID|Recency|Frequency|Monetary|r_seg|f_seg|m_seg|RFMScore|\n",
            "+----------+-------+---------+--------+-----+-----+-----+--------+\n",
            "|     14364|      5|        8| 3717.35|    1|    1|    1|     111|\n",
            "|     16057|      5|        7| 2263.12|    1|    1|    1|     111|\n",
            "|     16145|      3|       11| 3799.49|    1|    1|    1|     111|\n",
            "|     15974|      5|        7| 3442.15|    1|    1|    1|     111|\n",
            "|     17685|      1|        7| 3191.53|    1|    1|    1|     111|\n",
            "|     12709|      0|       15| 9736.52|    1|    1|    1|     111|\n",
            "|     13488|      9|       13| 8968.31|    1|    1|    1|     111|\n",
            "|     16839|      1|       34|16594.35|    1|    1|    1|     111|\n",
            "|     17811|      1|       39| 7837.73|    1|    1|    1|     111|\n",
            "|     17071|      1|        9| 2429.03|    1|    1|    1|     111|\n",
            "|     15727|      9|        7| 5178.96|    1|    1|    1|     111|\n",
            "|     12757|      5|       13|  7857.1|    1|    1|    1|     111|\n",
            "|     17389|      9|       34|31833.68|    1|    1|    1|     111|\n",
            "|     14292|      1|        9| 4871.93|    1|    1|    1|     111|\n",
            "|     12841|      4|       25| 4022.35|    1|    1|    1|     111|\n",
            "|     17346|      0|       15| 2676.56|    1|    1|    1|     111|\n",
            "|     12523|      9|       11| 1789.77|    1|    1|    1|     111|\n",
            "|     16985|      1|       10| 5464.12|    1|    1|    1|     111|\n",
            "|     13468|      0|       37| 5704.97|    1|    1|    1|     111|\n",
            "|     17193|      0|        7|  1699.3|    1|    1|    1|     111|\n",
            "+----------+-------+---------+--------+-----+-----+-----+--------+\n",
            "only showing top 20 rows\n",
            "\n"
          ]
        }
      ],
      "source": [
        "col_list=[\"r_seg\",\"f_seg\",\"m_seg\"]\n",
        "\n",
        "#RFM score is nothing but the concatenated R,F,M values\n",
        "rfm_seg=rfm_seg.withColumn(\"RFMScore\",concat(*col_list))\n",
        "rfm_seg.sort(\"RFMScore\").show(20)\n",
        "\n",
        "# df_load.write.format('mongo')\\ .mode('overwrite')\\ .option('spark.mongodb.output.uri', 'mongodb://127.0.0.1:27017/Quake.quakes').save()"
      ]
    },
    {
      "cell_type": "code",
      "source": [
        "print(type(rfm_seg))"
      ],
      "metadata": {
        "colab": {
          "base_uri": "https://localhost:8080/"
        },
        "id": "XCWx8XIVeHkT",
        "outputId": "883b9028-0439-4bb1-8abe-86ff5c2fca3e"
      },
      "execution_count": null,
      "outputs": [
        {
          "output_type": "stream",
          "name": "stdout",
          "text": [
            "<class 'pyspark.sql.dataframe.DataFrame'>\n"
          ]
        }
      ]
    },
    {
      "cell_type": "code",
      "source": [
        "rfm_seg.toPandas().to_csv('mycsv.csv')"
      ],
      "metadata": {
        "id": "i3FRLBGYHbPX"
      },
      "execution_count": null,
      "outputs": []
    },
    {
      "cell_type": "code",
      "execution_count": null,
      "metadata": {
        "id": "hpJggBw9emz1",
        "colab": {
          "base_uri": "https://localhost:8080/"
        },
        "outputId": "0a94200a-7d0c-4f8c-b604-84547446fe2a"
      },
      "outputs": [
        {
          "output_type": "stream",
          "name": "stdout",
          "text": [
            "+--------+------------------+------------------+------------------+\n",
            "|RFMScore|      avg(Recency)|     avg(Monetary)|    avg(Frequency)|\n",
            "+--------+------------------+------------------+------------------+\n",
            "|     111|3.3160919540229883|12671.901494252872|21.488505747126435|\n",
            "|     112|               3.2|         1275.4672|              8.36|\n",
            "|     121|3.2962962962962963| 2354.196296296296|  4.62962962962963|\n",
            "|     122| 3.119047619047619|1119.3678571428568| 4.285714285714286|\n",
            "|     123|               3.0|           538.286|               4.2|\n",
            "+--------+------------------+------------------+------------------+\n",
            "only showing top 5 rows\n",
            "\n"
          ]
        }
      ],
      "source": [
        "#Statistical summary for each RFM score(Mapping of RFM score against average R,F,M values)\n",
        "rfm_seg.groupBy(\"RFMScore\").agg({\"Recency\":\"mean\",\"Frequency\":\"mean\",\"Monetary\":\"mean\"} ).sort([\"RFMScore\"]).show(5)"
      ]
    },
    {
      "cell_type": "markdown",
      "source": [
        "# Build feature matrix"
      ],
      "metadata": {
        "id": "F0LeomPpF-z2"
      }
    },
    {
      "cell_type": "code",
      "source": [
        "from pyspark.sql import Row\n",
        "from pyspark.ml.linalg import Vectors\n",
        "\n",
        "def transData(data):\n",
        "    return data.rdd.map(lambda r: [r[0],Vectors.dense(r[1:])]).toDF(['CustomerID','rfm'])"
      ],
      "metadata": {
        "id": "vUmdJ6VsF1eG"
      },
      "execution_count": null,
      "outputs": []
    },
    {
      "cell_type": "code",
      "source": [
        "transformed= transData(rfm)\n",
        "transformed.show(5)\n"
      ],
      "metadata": {
        "id": "WEAPdzDtF1Vj",
        "colab": {
          "base_uri": "https://localhost:8080/"
        },
        "outputId": "fc0b3e0d-31e9-44ca-91d6-f43a15588e75"
      },
      "execution_count": null,
      "outputs": [
        {
          "output_type": "stream",
          "name": "stdout",
          "text": [
            "+----------+-------------------+\n",
            "|CustomerID|                rfm|\n",
            "+----------+-------------------+\n",
            "|     15727|  [9.0,7.0,5178.96]|\n",
            "|     17420| [697.0,3.0,598.83]|\n",
            "|     13285|[337.0,4.0,2709.12]|\n",
            "|     17389|[9.0,34.0,31833.68]|\n",
            "|     16503| [96.0,4.0,1431.93]|\n",
            "+----------+-------------------+\n",
            "only showing top 5 rows\n",
            "\n"
          ]
        }
      ]
    },
    {
      "cell_type": "markdown",
      "source": [
        "# Scaler the feature matrix"
      ],
      "metadata": {
        "id": "8pNsKZOOGFIB"
      }
    },
    {
      "cell_type": "code",
      "source": [
        "from pyspark.ml.feature import MinMaxScaler\n",
        "\n",
        "scaler = MinMaxScaler(inputCol=\"rfm\",\\\n",
        "         outputCol=\"features\")\n",
        "scalerModel =  scaler.fit(transformed)\n",
        "scaledData = scalerModel.transform(transformed)\n",
        "scaledData.show(5,False)"
      ],
      "metadata": {
        "id": "Eh0Wcqo-FnN4",
        "colab": {
          "base_uri": "https://localhost:8080/"
        },
        "outputId": "39015d2c-15a3-486e-ade2-543a0565b95f"
      },
      "execution_count": null,
      "outputs": [
        {
          "output_type": "stream",
          "name": "stdout",
          "text": [
            "+----------+-------------------+---------------------------------------------------------------+\n",
            "|CustomerID|rfm                |features                                                       |\n",
            "+----------+-------------------+---------------------------------------------------------------+\n",
            "|15727     |[9.0,7.0,5178.96]  |[0.01291248206599713,0.028708133971291867,0.018460968318966087]|\n",
            "|17420     |[697.0,3.0,598.83] |[1.0,0.009569377990430622,0.0021150263408449012]               |\n",
            "|13285     |[337.0,4.0,2709.12]|[0.4835007173601148,0.014354066985645933,0.009646401628666285] |\n",
            "|17389     |[9.0,34.0,31833.68]|[0.01291248206599713,0.15789473684210525,0.11358850979989922]  |\n",
            "|16503     |[96.0,4.0,1431.93] |[0.13773314203730272,0.014354066985645933,0.005088261655557095]|\n",
            "+----------+-------------------+---------------------------------------------------------------+\n",
            "only showing top 5 rows\n",
            "\n"
          ]
        }
      ]
    },
    {
      "cell_type": "markdown",
      "metadata": {
        "id": "QHXmKuPJemz1"
      },
      "source": [
        "# K-means clustering "
      ]
    },
    {
      "cell_type": "code",
      "execution_count": null,
      "metadata": {
        "id": "nogXZFrQemz1"
      },
      "outputs": [],
      "source": [
        "#PySpark libraries\n",
        "from pyspark.ml import Pipeline\n",
        "from pyspark.ml.feature import StringIndexer, OneHotEncoder, VectorAssembler\n",
        "from pyspark.sql.functions import col, percent_rank, lit\n",
        "from pyspark.sql.window import Window\n",
        "from pyspark.sql import DataFrame, Row\n",
        "from pyspark.sql.types import StructType\n",
        "from functools import reduce  # For Python 3.x\n",
        "\n",
        "from pyspark.ml.clustering import KMeans\n",
        "#from pyspark.ml.evaluation import ClusteringEvaluator  # requires Spark 2.4 or later\n",
        "\n",
        "import numpy as np\n",
        "cost = np.zeros(20)\n",
        "for k in range(2,20):\n",
        "    kmeans = KMeans()\\\n",
        "            .setK(k)\\\n",
        "            .setSeed(1) \\\n",
        "            .setFeaturesCol(\"features\")\\\n",
        "            .setPredictionCol(\"cluster\")\n",
        "\n",
        "    model = kmeans.fit(scaledData)\n",
        "    cost[k] = model.computeCost(scaledData) # requires Spark 2.0 or later"
      ]
    },
    {
      "cell_type": "code",
      "source": [
        "import numpy as np\n",
        "import matplotlib.mlab as mlab\n",
        "import matplotlib.pyplot as plt\n",
        "import seaborn as sbs\n",
        "from matplotlib.ticker import MaxNLocator\n",
        "\n",
        "fig, ax = plt.subplots(1,1, figsize =(8,6))\n",
        "ax.plot(range(2,20),cost[2:20], marker = \"o\")\n",
        "ax.set_xlabel('k')\n",
        "ax.set_ylabel('cost')\n",
        "ax.xaxis.set_major_locator(MaxNLocator(integer=True))\n",
        "plt.show()"
      ],
      "metadata": {
        "id": "xm3LfsMiGX-o",
        "colab": {
          "base_uri": "https://localhost:8080/",
          "height": 388
        },
        "outputId": "e6820932-f98e-4bd8-8a56-99b6257056b3"
      },
      "execution_count": null,
      "outputs": [
        {
          "output_type": "display_data",
          "data": {
            "text/plain": [
              "<Figure size 576x432 with 1 Axes>"
            ],
            "image/png": "[encoded data removed]"
          },
          "metadata": {
            "needs_background": "light"
          }
        }
      ]
    }
  ],
  "metadata": {
    "kernelspec": {
      "display_name": "Python 3",
      "language": "python",
      "name": "python3"
    },
    "language_info": {
      "codemirror_mode": {
        "name": "ipython",
        "version": 3
      },
      "file_extension": ".py",
      "mimetype": "text/x-python",
      "name": "python",
      "nbconvert_exporter": "python",
      "pygments_lexer": "ipython3",
      "version": "3.7.4"
    },
    "name": "RFM Analysis (1)",
    "notebookId": 4403270739387162,
    "colab": {
      "name": "RFM Analysis with py spark.ipynb",
      "provenance": [],
      "collapsed_sections": []
    },
    "accelerator": "GPU"
  },
  "nbformat": 4,
  "nbformat_minor": 0
}